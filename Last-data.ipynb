{
 "cells": [
  {
   "cell_type": "markdown",
   "metadata": {},
   "source": [
    "# Measuring the CPU usage at the hpc05"
   ]
  },
  {
   "cell_type": "code",
   "execution_count": null,
   "metadata": {
    "collapsed": true
   },
   "outputs": [],
   "source": [
    "import datetime\n",
    "import json\n",
    "import pandas as pd\n",
    "import matplotlib.pyplot as plt\n",
    "%matplotlib inline"
   ]
  },
  {
   "cell_type": "code",
   "execution_count": null,
   "metadata": {
    "collapsed": true
   },
   "outputs": [],
   "source": [
    "def open_json(fname):\n",
    "    with open(fname, 'r') as f:\n",
    "        x = json.load(f)\n",
    "\n",
    "    data = []\n",
    "    for key, val in x.items():\n",
    "        ID, user, process = key.split()\n",
    "        for i in val:\n",
    "            current_time, running_time, num_cores = i\n",
    "            data.append(dict(ID=ID, user=user, process=process, current_time=current_time, \n",
    "                        running_time=running_time, num_cores=num_cores))\n",
    "    return data\n",
    "\n",
    "\n",
    "def load_file_sort_by_ID(today=False):\n",
    "    df = pd.DataFrame(data)\n",
    "    by_ID = df.groupby('ID')\n",
    "    df['elapsed_time'] = by_ID['current_time'].transform(lambda x: x-x.min())\n",
    "    df['running_time'] = by_ID['running_time'].transform(lambda x: x-x.min())\n",
    "    df['running_time'] = df['running_time'] / df['num_cores']\n",
    "    df['activity'] = df['running_time'] / df['elapsed_time'] * 100\n",
    "    df.index = pd.to_datetime(df.pop('current_time'), unit='s', utc=True)\n",
    "    df = df.sort_index()\n",
    "    if today:\n",
    "        # select only today\n",
    "        df = df.ix[str(datetime.date.today())]\n",
    "        by_ID = df.groupby('ID')\n",
    "    lasts = by_ID.last().set_index('user')\n",
    "    return df, lasts\n",
    "\n",
    "\n",
    "def get_user_df(lasts):\n",
    "    by_user = lasts.groupby(level='user')\n",
    "    elapsed_days = by_user.apply(lambda x: (x.elapsed_time * x.num_cores).sum() / 86400)\n",
    "    running_days = by_user.apply(lambda x: (x.running_time * x.num_cores).sum() / 86400)\n",
    "    user_df = elapsed_days.to_frame('elapsed_days').join(running_days.to_frame('running_days'))\n",
    "    user_df['activity'] = user_df.running_days / user_df.elapsed_days * 100\n",
    "    return user_df"
   ]
  },
  {
   "cell_type": "code",
   "execution_count": null,
   "metadata": {
    "collapsed": true
   },
   "outputs": [],
   "source": [
    "tz = datetime.timezone(datetime.timedelta(hours=2))\n",
    "print('Now it is {}'.format(str(datetime.datetime.now(tz))))\n",
    "today = str(datetime.date.today())\n",
    "data = open_json('job_log_{}.json'.format(today[:-3]))"
   ]
  },
  {
   "cell_type": "markdown",
   "metadata": {},
   "source": [
    "# This months data"
   ]
  },
  {
   "cell_type": "code",
   "execution_count": null,
   "metadata": {},
   "outputs": [],
   "source": [
    "df, lasts = load_file_sort_by_ID(today=True)\n",
    "user_df = get_user_df(lasts)\n",
    "user_df.sort_values('elapsed_days', ascending=False)"
   ]
  },
  {
   "cell_type": "markdown",
   "metadata": {},
   "source": [
    "### Barplot with elapsed days and running days"
   ]
  },
  {
   "cell_type": "code",
   "execution_count": null,
   "metadata": {},
   "outputs": [],
   "source": [
    "user_df.sort_values('activity').plot.bar(y=['elapsed_days', 'running_days'])"
   ]
  },
  {
   "cell_type": "markdown",
   "metadata": {},
   "source": [
    "### Sorted on activity"
   ]
  },
  {
   "cell_type": "code",
   "execution_count": null,
   "metadata": {},
   "outputs": [],
   "source": [
    "for user, row in user_df.sort_values('activity').iterrows():\n",
    "    print('{} has {:.0f} days of computing and {:.1f}% time activity'.format(\n",
    "        user, row.elapsed_days, row.activity))"
   ]
  },
  {
   "cell_type": "markdown",
   "metadata": {},
   "source": [
    "### Sorted on days"
   ]
  },
  {
   "cell_type": "code",
   "execution_count": null,
   "metadata": {},
   "outputs": [],
   "source": [
    "for user, row in user_df.sort_values('elapsed_days', ascending=False).iterrows():\n",
    "    print('{} has {:.0f} days of computing and {:.1f}% time activity'.format(\n",
    "        user, row.elapsed_days, row.activity))"
   ]
  },
  {
   "cell_type": "markdown",
   "metadata": {},
   "source": [
    "# Only today"
   ]
  },
  {
   "cell_type": "code",
   "execution_count": null,
   "metadata": {},
   "outputs": [],
   "source": [
    "df, lasts = load_file_sort_by_ID(today=True)\n",
    "user_df_today = get_user_df(lasts)\n",
    "user_df_today.sort_values('elapsed_days', ascending=False)"
   ]
  },
  {
   "cell_type": "code",
   "execution_count": null,
   "metadata": {},
   "outputs": [],
   "source": [
    "user_df_today.sort_values('activity').plot.bar(y=['elapsed_days', 'running_days'])"
   ]
  }
 ],
 "metadata": {
  "anaconda-cloud": {},
  "kernelspec": {
   "display_name": "Python 3",
   "language": "python",
   "name": "python3"
  },
  "language_info": {
   "codemirror_mode": {
    "name": "ipython",
    "version": 3
   },
   "file_extension": ".py",
   "mimetype": "text/x-python",
   "name": "python",
   "nbconvert_exporter": "python",
   "pygments_lexer": "ipython3",
   "version": "3.5.3"
  }
 },
 "nbformat": 4,
 "nbformat_minor": 1
}
