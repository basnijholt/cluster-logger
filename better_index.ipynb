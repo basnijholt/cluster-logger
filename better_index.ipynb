{
 "cells": [
  {
   "cell_type": "markdown",
   "metadata": {},
   "source": [
    "# Measuring and logging the CPU usage at the `hpc05`\n",
    "\n",
    "Takes a measuring point **every 15 minutes** and then updates this website.\n",
    "\n",
    "Want to know something? Ask/e-mail Bas at [basnijholt@gmail.com](mailto:basnijholt@gmail.com).\n",
    "\n",
    "_You can see the code by clicking on this button:_"
   ]
  },
  {
   "cell_type": "raw",
   "metadata": {},
   "source": [
    "<script>\n",
    "  function code_toggle() {\n",
    "    if (code_shown){\n",
    "      $('div.input').hide('500');\n",
    "      $('#toggleButton').val('Show Code')\n",
    "    } else {\n",
    "      $('div.input').show('500');\n",
    "      $('#toggleButton').val('Hide Code')\n",
    "    }\n",
    "    code_shown = !code_shown\n",
    "  }\n",
    "\n",
    "  $( document ).ready(function(){\n",
    "    code_shown=false;\n",
    "    $('div.input').hide()\n",
    "  });\n",
    "</script>\n",
    "<form action=\"javascript:code_toggle()\"><input type=\"submit\" id=\"toggleButton\" value=\"Show Code\"></form>"
   ]
  },
  {
   "cell_type": "code",
   "execution_count": null,
   "metadata": {},
   "outputs": [],
   "source": [
    "from better_logger import *\n",
    "print('Last time this script ran is at {}'.format(now))"
   ]
  },
  {
   "cell_type": "markdown",
   "metadata": {},
   "source": [
    "# Current usage at the `hpc05`"
   ]
  },
  {
   "cell_type": "code",
   "execution_count": null,
   "metadata": {},
   "outputs": [],
   "source": [
    "!ssh hpc05 'bash -c \"~/miniconda3/envs/dev/bin/python /home/basnijholt/Work/cluster_log/stat.py\"'"
   ]
  },
  {
   "cell_type": "code",
   "execution_count": null,
   "metadata": {},
   "outputs": [],
   "source": [
    "import pandas as pd\n",
    "import matplotlib.pyplot as plt\n",
    "%matplotlib inline\n",
    "\n",
    "today = str(now.date())\n",
    "month = now.strftime(\"%B\")\n",
    "\n",
    "processes = load_processes('database.p')\n",
    "df = pd.DataFrame(processes)\n",
    "df.index = pd.to_datetime(df.current_time, unit='s', utc=True)\n",
    "\n",
    "gb = df.groupby('Job ID', as_index=False)\n",
    "df['cpu_time'] = gb['cpu_time'].transform(lambda x: x-x.min())\n",
    "df['reserved_time'] = gb['current_time'].transform(lambda x: x-x.min())\n",
    "df['activity'] = df['cpu_time'] / df['reserved_time'] / df['num_cores'] * 100\n",
    "lasts = gb.last()\n",
    "\n",
    "def get_user_df(lasts, only_today=False):\n",
    "    lasts = lasts.copy()\n",
    "    if only_today:\n",
    "        # select only today\n",
    "        lasts.index = pd.to_datetime(lasts.pop('current_time'), unit='s', utc=True)\n",
    "        lasts = lasts.loc[today]\n",
    "\n",
    "    by_user = lasts.groupby('Username')\n",
    "    reserved_days = by_user.reserved_time.sum() * by_user.num_cores.mean() / 86400\n",
    "    cpu_days = by_user.cpu_time.sum() / 86400\n",
    "    idle_days = reserved_days - cpu_days\n",
    "    user_df = pd.DataFrame([cpu_days, reserved_days, idle_days, by_user.activity.mean()], \n",
    "                           index=['CPU time (days)', 'Reserved time (days)', 'IDLE time (days)', 'Activity (%)']).T\n",
    "    return user_df\n",
    "\n",
    "get_user_df(lasts, True)"
   ]
  },
  {
   "cell_type": "markdown",
   "metadata": {},
   "source": [
    "# Data of the last 60 days"
   ]
  },
  {
   "cell_type": "code",
   "execution_count": null,
   "metadata": {},
   "outputs": [],
   "source": [
    "user_df = get_user_df(lasts)\n",
    "user_df.sort_values('IDLE time (days)', ascending=False)"
   ]
  },
  {
   "cell_type": "code",
   "execution_count": null,
   "metadata": {},
   "outputs": [],
   "source": [
    "ax = user_df.sort_values('Activity (%)').plot.bar(y=['Reserved time (days)', 'CPU time (days)'])\n",
    "ax.set_ylabel('CPU time in days')\n",
    "ax.set_title('CPU time used per user for the last 60 days')"
   ]
  },
  {
   "cell_type": "code",
   "execution_count": null,
   "metadata": {},
   "outputs": [],
   "source": [
    "ax = df.groupby(df.index.weekday_name, sort=False).cpu_time.sum().divide(86400 * 365).plot.bar()\n",
    "ax.set_ylabel('CPU time in years')\n",
    "ax.set_title('CPU time per weekday in {}'.format(month))"
   ]
  },
  {
   "cell_type": "code",
   "execution_count": null,
   "metadata": {},
   "outputs": [],
   "source": [
    "ax = df.groupby(df.index.hour + tz_offset, sort=False).cpu_time.sum().divide(86400 * 365).plot.bar()\n",
    "ax.set_ylabel('CPU time in years')\n",
    "ax.set_title('CPU time per hour in {}'.format(month))"
   ]
  },
  {
   "cell_type": "markdown",
   "metadata": {},
   "source": [
    "# Only today"
   ]
  },
  {
   "cell_type": "code",
   "execution_count": null,
   "metadata": {},
   "outputs": [],
   "source": [
    "user_df_today = get_user_df(lasts, only_today=True)\n",
    "user_df_today.sort_values('IDLE time (days)', ascending=False)"
   ]
  },
  {
   "cell_type": "code",
   "execution_count": null,
   "metadata": {},
   "outputs": [],
   "source": [
    "ax = user_df_today.sort_values('Activity (%)').plot.bar(y=['Reserved time (days)', 'CPU time (days)'])\n",
    "ax.set_ylabel('CPU time in days')\n",
    "ax.set_title('CPU time per user today ({})'.format(today))"
   ]
  }
 ],
 "metadata": {
  "anaconda-cloud": {},
  "kernelspec": {
   "display_name": "Python 3",
   "language": "python",
   "name": "python3"
  },
  "language_info": {
   "codemirror_mode": {
    "name": "ipython",
    "version": 3
   },
   "file_extension": ".py",
   "mimetype": "text/x-python",
   "name": "python",
   "nbconvert_exporter": "python",
   "pygments_lexer": "ipython3",
   "version": "3.5.3"
  }
 },
 "nbformat": 4,
 "nbformat_minor": 1
}
