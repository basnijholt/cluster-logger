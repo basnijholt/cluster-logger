{
 "cells": [
  {
   "cell_type": "code",
   "execution_count": null,
   "metadata": {
    "collapsed": false
   },
   "outputs": [],
   "source": [
    "import json\n",
    "import pandas as pd\n",
    "import numpy\n",
    "import numpy as np\n",
    "import holoviews as hv\n",
    "import datetime\n",
    "%matplotlib inline\n",
    "hv.notebook_extension()"
   ]
  },
  {
   "cell_type": "code",
   "execution_count": null,
   "metadata": {
    "collapsed": false
   },
   "outputs": [],
   "source": [
    "with open('job_log_2016-11.json', 'r') as f:\n",
    "    x = json.load(f)\n",
    "\n",
    "data = []\n",
    "for key, val in x.items():\n",
    "    ID, user, process = key.split()\n",
    "    for i in val:\n",
    "        current_time, running_time, num_cores = i\n",
    "        data.append(dict(ID=ID, user=user, process=process, current_time=current_time, \n",
    "                    running_time=running_time, num_cores=num_cores))\n",
    "\n",
    "df = pd.DataFrame(data)\n",
    "by_ID = df.groupby('ID')\n",
    "df['elapsed_time'] = by_ID['current_time'].transform(lambda x: x-x.min())\n",
    "df['running_time'] = by_ID['running_time'].transform(lambda x: x-x.min())\n",
    "df['running_time'] = df['running_time'] / df['num_cores']\n",
    "df.index = pd.to_datetime(df.pop('current_time'), unit='s', utc=True)\n",
    "\n",
    "last_entries = pd.DataFrame([dict(group.iloc[-1]) for i, group in by_ID])\n",
    "last_entries['percentage'] = last_entries['running_time'] / last_entries['elapsed_time']"
   ]
  },
  {
   "cell_type": "code",
   "execution_count": null,
   "metadata": {
    "collapsed": true
   },
   "outputs": [],
   "source": [
    "usage = []\n",
    "for user, group in last_entries.groupby('user'):\n",
    "    elapsed_days = (group['elapsed_time'] * group['num_cores']).sum() / 86400\n",
    "    running_time_days = (group['running_time'] * group['num_cores']).sum() / 86400\n",
    "    if running_time_days > 0.0:\n",
    "        percentage = running_time_days / elapsed_days * 100\n",
    "        usage.append(dict(user=user, elapsed_days=elapsed_days,\n",
    "                          running_time_days=running_time_days, percentage=percentage))\n",
    "df2 = pd.DataFrame(usage)"
   ]
  },
  {
   "cell_type": "markdown",
   "metadata": {},
   "source": [
    "# Sorted on activity"
   ]
  },
  {
   "cell_type": "code",
   "execution_count": null,
   "metadata": {
    "collapsed": false
   },
   "outputs": [],
   "source": [
    "for i, row in df2.sort_values('percentage').iterrows():\n",
    "    print('{} has {:.0f} days of computing and {:.1f}% time activity'.format(\n",
    "            row.user, row.elapsed_days, row.percentage))"
   ]
  },
  {
   "cell_type": "markdown",
   "metadata": {},
   "source": [
    "# Sorted on days"
   ]
  },
  {
   "cell_type": "code",
   "execution_count": null,
   "metadata": {
    "collapsed": false
   },
   "outputs": [],
   "source": [
    "for i, row in df2.sort_values('elapsed_days', ascending=False).iterrows():\n",
    "    print('{} has {:.0f} days of computing and {:.1f}% time activity'.format(\n",
    "            row.user, row.elapsed_days, row.percentage))"
   ]
  },
  {
   "cell_type": "code",
   "execution_count": null,
   "metadata": {
    "collapsed": false
   },
   "outputs": [],
   "source": [
    "df2.sort_values('percentage').plot.bar('user', 'percentage')"
   ]
  },
  {
   "cell_type": "code",
   "execution_count": null,
   "metadata": {
    "collapsed": false
   },
   "outputs": [],
   "source": [
    "df2.sort_values('elapsed_days').plot.bar('user', 'elapsed_days')"
   ]
  },
  {
   "cell_type": "code",
   "execution_count": null,
   "metadata": {
    "collapsed": false
   },
   "outputs": [],
   "source": [
    "df2.sort_values('running_time_days').plot.bar('user', 'running_time_days')"
   ]
  }
 ],
 "metadata": {
  "kernelspec": {
   "display_name": "Python 3",
   "language": "python",
   "name": "python3"
  },
  "language_info": {
   "codemirror_mode": {
    "name": "ipython",
    "version": 3
   },
   "file_extension": ".py",
   "mimetype": "text/x-python",
   "name": "python",
   "nbconvert_exporter": "python",
   "pygments_lexer": "ipython3",
   "version": "3.5.2"
  }
 },
 "nbformat": 4,
 "nbformat_minor": 0
}
