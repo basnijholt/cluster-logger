{
 "cells": [
  {
   "cell_type": "markdown",
   "metadata": {},
   "source": [
    "# Measuring and logging the CPU usage at the `hpc05`\n",
    "\n",
    "Takes a measuring point **every 15 minutes** and then updates this website.\n",
    "\n",
    "Want to know something? Ask/e-mail Bas at [basnijholt@gmail.com](mailto:basnijholt@gmail.com)."
   ]
  },
  {
   "cell_type": "raw",
   "metadata": {},
   "source": [
    "<script>\n",
    "  function code_toggle() {\n",
    "    if (code_shown){\n",
    "      $('div.input').hide('500');\n",
    "      $('#toggleButton').val('Show Code')\n",
    "    } else {\n",
    "      $('div.input').show('500');\n",
    "      $('#toggleButton').val('Hide Code')\n",
    "    }\n",
    "    code_shown = !code_shown\n",
    "  }\n",
    "\n",
    "  $( document ).ready(function(){\n",
    "    code_shown=false;\n",
    "    $('div.input').hide()\n",
    "  });\n",
    "</script>\n",
    "<form action=\"javascript:code_toggle()\"><input type=\"submit\" id=\"toggleButton\" value=\"Show Code\"></form>"
   ]
  },
  {
   "cell_type": "code",
   "execution_count": null,
   "metadata": {
    "collapsed": true
   },
   "outputs": [],
   "source": [
    "import datetime\n",
    "tz = datetime.timezone(datetime.timedelta(hours=2))\n",
    "print('Last time this script ran is at {}'.format(str(datetime.datetime.now(tz))))"
   ]
  },
  {
   "cell_type": "markdown",
   "metadata": {},
   "source": [
    "# Current usage at the `hpc05`"
   ]
  },
  {
   "cell_type": "code",
   "execution_count": null,
   "metadata": {
    "collapsed": true
   },
   "outputs": [],
   "source": [
    "!ssh hpc05 'bash -c \"~/miniconda3/envs/dev/bin/python /home/basnijholt/Work/cluster_log/stat.py\"'"
   ]
  },
  {
   "cell_type": "code",
   "execution_count": 98,
   "metadata": {
    "collapsed": true
   },
   "outputs": [],
   "source": [
    "import json\n",
    "import pandas as pd\n",
    "import matplotlib.pyplot as plt\n",
    "%matplotlib inline\n",
    "\n",
    "def open_json(fname):\n",
    "    with open(fname, 'r') as f:\n",
    "        x = json.load(f)\n",
    "\n",
    "    data = []\n",
    "    for key, val in x.items():\n",
    "        ID, user, process = key.split()\n",
    "        for i in val:\n",
    "            current_time, actual_usage_time, num_cores = i\n",
    "            data.append(dict(ID=ID, user=user, process=process, current_time=current_time, \n",
    "                        actual_usage_time=actual_usage_time, num_cores=num_cores))\n",
    "    return data\n",
    "\n",
    "\n",
    "def load_file_sort_by_ID(data, today=False):\n",
    "    df = pd.DataFrame(data)\n",
    "    by_ID = df.groupby('ID')\n",
    "    df['reserved_time'] = by_ID['current_time'].transform(lambda x: x-x.min())\n",
    "    df['actual_usage_time'] = by_ID['actual_usage_time'].transform(lambda x: x-x.min())\n",
    "    df['actual_usage_time'] = df['actual_usage_time'] / df['num_cores']\n",
    "    df['activity'] = df['actual_usage_time'] / df['reserved_time'] * 100\n",
    "    df.index = pd.to_datetime(df.pop('current_time'), unit='s', utc=True)\n",
    "    df = df.sort_index()\n",
    "    if today:\n",
    "        # select only today\n",
    "        df = df.loc[str(datetime.date.today())]\n",
    "        by_ID = df.groupby('ID')\n",
    "    lasts = by_ID.last().set_index('user')\n",
    "    return df, lasts\n",
    "\n",
    "\n",
    "def get_user_df(lasts):\n",
    "    by_user = lasts.groupby(level='user')\n",
    "    reserved_days = by_user.apply(lambda x: (x.reserved_time * x.num_cores).sum() / 86400)\n",
    "    actual_usage_days = by_user.apply(lambda x: (x.actual_usage_time * x.num_cores).sum() / 86400)\n",
    "    idle_days = reserved_days - actual_usage_days\n",
    "    user_df = reserved_days.to_frame('reserved_days').join(actual_usage_days.to_frame('actual_usage_days')).join(idle_days.to_frame('idle_days'))\n",
    "    user_df['activity'] = user_df.actual_usage_days / user_df.reserved_days * 100\n",
    "    return user_df\n",
    "\n",
    "today = str(datetime.date.today())\n",
    "month = datetime.datetime.today().strftime(\"%B\")\n",
    "data = open_json('job_log_{}.json'.format(today[:-3]))"
   ]
  },
  {
   "cell_type": "markdown",
   "metadata": {},
   "source": [
    "# This months data\n",
    "\n",
    "* `reserved_days` means the total amount of CPU time (in days) that the user *reserved* the cores.\n",
    "* `actual_usage_days` means the total amount of CPU time (in days) that the user was *actually* using the cores.\n",
    "* `idle_days = reserved_days - actual_usage_days`"
   ]
  },
  {
   "cell_type": "code",
   "execution_count": 99,
   "metadata": {},
   "outputs": [
    {
     "data": {
      "text/html": [
       "<div>\n",
       "<table border=\"1\" class=\"dataframe\">\n",
       "  <thead>\n",
       "    <tr style=\"text-align: right;\">\n",
       "      <th></th>\n",
       "      <th>reserved_days</th>\n",
       "      <th>actual_usage_days</th>\n",
       "      <th>idle_days</th>\n",
       "      <th>activity</th>\n",
       "    </tr>\n",
       "    <tr>\n",
       "      <th>user</th>\n",
       "      <th></th>\n",
       "      <th></th>\n",
       "      <th></th>\n",
       "      <th></th>\n",
       "    </tr>\n",
       "  </thead>\n",
       "  <tbody>\n",
       "    <tr>\n",
       "      <th>jcelisgil</th>\n",
       "      <td>1210.369380</td>\n",
       "      <td>180.792037</td>\n",
       "      <td>1029.577343</td>\n",
       "      <td>14.936931</td>\n",
       "    </tr>\n",
       "    <tr>\n",
       "      <th>jvandermaes</th>\n",
       "      <td>914.093943</td>\n",
       "      <td>75.330556</td>\n",
       "      <td>838.763387</td>\n",
       "      <td>8.241008</td>\n",
       "    </tr>\n",
       "    <tr>\n",
       "      <th>basnijholt</th>\n",
       "      <td>1161.135214</td>\n",
       "      <td>812.482488</td>\n",
       "      <td>348.652726</td>\n",
       "      <td>69.973116</td>\n",
       "    </tr>\n",
       "    <tr>\n",
       "      <th>dsticlet</th>\n",
       "      <td>346.075599</td>\n",
       "      <td>181.774815</td>\n",
       "      <td>164.300784</td>\n",
       "      <td>52.524597</td>\n",
       "    </tr>\n",
       "    <tr>\n",
       "      <th>mirfan</th>\n",
       "      <td>97.374413</td>\n",
       "      <td>4.835625</td>\n",
       "      <td>92.538788</td>\n",
       "      <td>4.966012</td>\n",
       "    </tr>\n",
       "    <tr>\n",
       "      <th>mhuibers</th>\n",
       "      <td>240.504402</td>\n",
       "      <td>178.689236</td>\n",
       "      <td>61.815166</td>\n",
       "      <td>74.297699</td>\n",
       "    </tr>\n",
       "    <tr>\n",
       "      <th>kristianblo</th>\n",
       "      <td>232.933024</td>\n",
       "      <td>173.012280</td>\n",
       "      <td>59.920744</td>\n",
       "      <td>74.275548</td>\n",
       "    </tr>\n",
       "    <tr>\n",
       "      <th>trosdahl</th>\n",
       "      <td>343.540622</td>\n",
       "      <td>320.680370</td>\n",
       "      <td>22.860251</td>\n",
       "      <td>93.345692</td>\n",
       "    </tr>\n",
       "    <tr>\n",
       "      <th>srubbert</th>\n",
       "      <td>53.046528</td>\n",
       "      <td>33.878113</td>\n",
       "      <td>19.168414</td>\n",
       "      <td>63.864903</td>\n",
       "    </tr>\n",
       "    <tr>\n",
       "      <th>pperrin</th>\n",
       "      <td>236.899880</td>\n",
       "      <td>228.364803</td>\n",
       "      <td>8.535077</td>\n",
       "      <td>96.397180</td>\n",
       "    </tr>\n",
       "    <tr>\n",
       "      <th>pperezpisku</th>\n",
       "      <td>1.878212</td>\n",
       "      <td>0.157095</td>\n",
       "      <td>1.721117</td>\n",
       "      <td>8.364069</td>\n",
       "    </tr>\n",
       "    <tr>\n",
       "      <th>adriaanvuik</th>\n",
       "      <td>1.787797</td>\n",
       "      <td>0.238877</td>\n",
       "      <td>1.548919</td>\n",
       "      <td>13.361548</td>\n",
       "    </tr>\n",
       "    <tr>\n",
       "      <th>avahidbelar</th>\n",
       "      <td>186.007673</td>\n",
       "      <td>185.788866</td>\n",
       "      <td>0.218807</td>\n",
       "      <td>99.882366</td>\n",
       "    </tr>\n",
       "    <tr>\n",
       "      <th>jvanlopik</th>\n",
       "      <td>42.445914</td>\n",
       "      <td>42.428090</td>\n",
       "      <td>0.017824</td>\n",
       "      <td>99.958008</td>\n",
       "    </tr>\n",
       "    <tr>\n",
       "      <th>thuijben</th>\n",
       "      <td>15.326399</td>\n",
       "      <td>15.320521</td>\n",
       "      <td>0.005878</td>\n",
       "      <td>99.961649</td>\n",
       "    </tr>\n",
       "    <tr>\n",
       "      <th>michielbong</th>\n",
       "      <td>58.706055</td>\n",
       "      <td>58.701516</td>\n",
       "      <td>0.004539</td>\n",
       "      <td>99.992268</td>\n",
       "    </tr>\n",
       "    <tr>\n",
       "      <th>rvangendere</th>\n",
       "      <td>11.107635</td>\n",
       "      <td>11.106563</td>\n",
       "      <td>0.001073</td>\n",
       "      <td>99.990340</td>\n",
       "    </tr>\n",
       "  </tbody>\n",
       "</table>\n",
       "</div>"
      ],
      "text/plain": [
       "             reserved_days  actual_usage_days    idle_days   activity\n",
       "user                                                                 \n",
       "jcelisgil      1210.369380         180.792037  1029.577343  14.936931\n",
       "jvandermaes     914.093943          75.330556   838.763387   8.241008\n",
       "basnijholt     1161.135214         812.482488   348.652726  69.973116\n",
       "dsticlet        346.075599         181.774815   164.300784  52.524597\n",
       "mirfan           97.374413           4.835625    92.538788   4.966012\n",
       "mhuibers        240.504402         178.689236    61.815166  74.297699\n",
       "kristianblo     232.933024         173.012280    59.920744  74.275548\n",
       "trosdahl        343.540622         320.680370    22.860251  93.345692\n",
       "srubbert         53.046528          33.878113    19.168414  63.864903\n",
       "pperrin         236.899880         228.364803     8.535077  96.397180\n",
       "pperezpisku       1.878212           0.157095     1.721117   8.364069\n",
       "adriaanvuik       1.787797           0.238877     1.548919  13.361548\n",
       "avahidbelar     186.007673         185.788866     0.218807  99.882366\n",
       "jvanlopik        42.445914          42.428090     0.017824  99.958008\n",
       "thuijben         15.326399          15.320521     0.005878  99.961649\n",
       "michielbong      58.706055          58.701516     0.004539  99.992268\n",
       "rvangendere      11.107635          11.106563     0.001073  99.990340"
      ]
     },
     "execution_count": 99,
     "metadata": {},
     "output_type": "execute_result"
    }
   ],
   "source": [
    "df, lasts = load_file_sort_by_ID(data, today=False)\n",
    "user_df = get_user_df(lasts)\n",
    "user_df.sort_values('idle_days', ascending=False)"
   ]
  },
  {
   "cell_type": "code",
   "execution_count": 100,
   "metadata": {},
   "outputs": [
    {
     "data": {
      "text/plain": [
       "<matplotlib.text.Text at 0x7f4ea732deb8>"
      ]
     },
     "execution_count": 100,
     "metadata": {},
     "output_type": "execute_result"
    },
    {
     "data": {
      "image/png": "[encoded data removed]",
      "text/plain": [
       "<matplotlib.figure.Figure at 0x7f4ea90197f0>"
      ]
     },
     "metadata": {},
     "output_type": "display_data"
    }
   ],
   "source": [
    "ax = user_df.sort_values('activity').plot.bar(y=['reserved_days', 'actual_usage_days'])\n",
    "ax.set_ylabel('CPU time in days')\n",
    "ax.set_title('Number of cores used per user in {}'.format(month))"
   ]
  },
  {
   "cell_type": "code",
   "execution_count": 101,
   "metadata": {},
   "outputs": [
    {
     "data": {
      "text/plain": [
       "<matplotlib.text.Text at 0x7f4ea80491d0>"
      ]
     },
     "execution_count": 101,
     "metadata": {},
     "output_type": "execute_result"
    },
    {
     "data": {
      "image/png": "[encoded data removed]",
      "text/plain": [
       "<matplotlib.figure.Figure at 0x7f4ea58855c0>"
      ]
     },
     "metadata": {},
     "output_type": "display_data"
    }
   ],
   "source": [
    "ax = df.groupby(df.index.weekday_name, sort=False).actual_usage_time.sum().divide(86400 * 365).plot.bar()\n",
    "ax.set_ylabel('CPU time in years')\n",
    "ax.set_title('Number of cores used per weekday in {}'.format(month))"
   ]
  },
  {
   "cell_type": "code",
   "execution_count": 102,
   "metadata": {},
   "outputs": [
    {
     "data": {
      "text/plain": [
       "<matplotlib.text.Text at 0x7f4ea56a73c8>"
      ]
     },
     "execution_count": 102,
     "metadata": {},
     "output_type": "execute_result"
    },
    {
     "data": {
      "image/png": "[encoded data removed]",
      "text/plain": [
       "<matplotlib.figure.Figure at 0x7f4ea7c18f28>"
      ]
     },
     "metadata": {},
     "output_type": "display_data"
    }
   ],
   "source": [
    "ax = df.groupby(df.index.hour, sort=False).actual_usage_time.sum().divide(86400 * 365).plot.bar()\n",
    "ax.set_ylabel('CPU time in years')\n",
    "ax.set_title('Number of cores used per hour in {}'.format(month))"
   ]
  },
  {
   "cell_type": "markdown",
   "metadata": {},
   "source": [
    "# Only today"
   ]
  },
  {
   "cell_type": "code",
   "execution_count": 104,
   "metadata": {},
   "outputs": [
    {
     "data": {
      "text/html": [
       "<div>\n",
       "<table border=\"1\" class=\"dataframe\">\n",
       "  <thead>\n",
       "    <tr style=\"text-align: right;\">\n",
       "      <th></th>\n",
       "      <th>reserved_days</th>\n",
       "      <th>actual_usage_days</th>\n",
       "      <th>idle_days</th>\n",
       "      <th>activity</th>\n",
       "    </tr>\n",
       "    <tr>\n",
       "      <th>user</th>\n",
       "      <th></th>\n",
       "      <th></th>\n",
       "      <th></th>\n",
       "      <th></th>\n",
       "    </tr>\n",
       "  </thead>\n",
       "  <tbody>\n",
       "    <tr>\n",
       "      <th>jcelisgil</th>\n",
       "      <td>794.834868</td>\n",
       "      <td>41.746759</td>\n",
       "      <td>753.088109</td>\n",
       "      <td>5.252256</td>\n",
       "    </tr>\n",
       "    <tr>\n",
       "      <th>jvandermaes</th>\n",
       "      <td>217.477629</td>\n",
       "      <td>17.112662</td>\n",
       "      <td>200.364967</td>\n",
       "      <td>7.868700</td>\n",
       "    </tr>\n",
       "    <tr>\n",
       "      <th>dsticlet</th>\n",
       "      <td>21.043069</td>\n",
       "      <td>0.901910</td>\n",
       "      <td>20.141159</td>\n",
       "      <td>4.286018</td>\n",
       "    </tr>\n",
       "    <tr>\n",
       "      <th>srubbert</th>\n",
       "      <td>10.111113</td>\n",
       "      <td>0.003889</td>\n",
       "      <td>10.107224</td>\n",
       "      <td>0.038462</td>\n",
       "    </tr>\n",
       "    <tr>\n",
       "      <th>pperrin</th>\n",
       "      <td>190.000356</td>\n",
       "      <td>183.774525</td>\n",
       "      <td>6.225831</td>\n",
       "      <td>96.723253</td>\n",
       "    </tr>\n",
       "    <tr>\n",
       "      <th>adriaanvuik</th>\n",
       "      <td>1.711406</td>\n",
       "      <td>0.238056</td>\n",
       "      <td>1.473351</td>\n",
       "      <td>13.909938</td>\n",
       "    </tr>\n",
       "    <tr>\n",
       "      <th>trosdahl</th>\n",
       "      <td>120.989665</td>\n",
       "      <td>119.798403</td>\n",
       "      <td>1.191262</td>\n",
       "      <td>99.015402</td>\n",
       "    </tr>\n",
       "    <tr>\n",
       "      <th>kristianblo</th>\n",
       "      <td>74.050395</td>\n",
       "      <td>74.011690</td>\n",
       "      <td>0.038705</td>\n",
       "      <td>99.947731</td>\n",
       "    </tr>\n",
       "    <tr>\n",
       "      <th>thuijben</th>\n",
       "      <td>4.597239</td>\n",
       "      <td>4.594734</td>\n",
       "      <td>0.002505</td>\n",
       "      <td>99.945513</td>\n",
       "    </tr>\n",
       "    <tr>\n",
       "      <th>michielbong</th>\n",
       "      <td>43.535669</td>\n",
       "      <td>43.533669</td>\n",
       "      <td>0.002000</td>\n",
       "      <td>99.995407</td>\n",
       "    </tr>\n",
       "    <tr>\n",
       "      <th>jvanlopik</th>\n",
       "      <td>7.070943</td>\n",
       "      <td>7.069178</td>\n",
       "      <td>0.001764</td>\n",
       "      <td>99.975048</td>\n",
       "    </tr>\n",
       "    <tr>\n",
       "      <th>rvangendere</th>\n",
       "      <td>4.100712</td>\n",
       "      <td>4.099363</td>\n",
       "      <td>0.001349</td>\n",
       "      <td>99.967113</td>\n",
       "    </tr>\n",
       "  </tbody>\n",
       "</table>\n",
       "</div>"
      ],
      "text/plain": [
       "             reserved_days  actual_usage_days   idle_days   activity\n",
       "user                                                                \n",
       "jcelisgil       794.834868          41.746759  753.088109   5.252256\n",
       "jvandermaes     217.477629          17.112662  200.364967   7.868700\n",
       "dsticlet         21.043069           0.901910   20.141159   4.286018\n",
       "srubbert         10.111113           0.003889   10.107224   0.038462\n",
       "pperrin         190.000356         183.774525    6.225831  96.723253\n",
       "adriaanvuik       1.711406           0.238056    1.473351  13.909938\n",
       "trosdahl        120.989665         119.798403    1.191262  99.015402\n",
       "kristianblo      74.050395          74.011690    0.038705  99.947731\n",
       "thuijben          4.597239           4.594734    0.002505  99.945513\n",
       "michielbong      43.535669          43.533669    0.002000  99.995407\n",
       "jvanlopik         7.070943           7.069178    0.001764  99.975048\n",
       "rvangendere       4.100712           4.099363    0.001349  99.967113"
      ]
     },
     "execution_count": 104,
     "metadata": {},
     "output_type": "execute_result"
    }
   ],
   "source": [
    "df, lasts = load_file_sort_by_ID(data, today=True)\n",
    "user_df_today = get_user_df(lasts)\n",
    "user_df_today.sort_values('idle_days', ascending=False)"
   ]
  },
  {
   "cell_type": "code",
   "execution_count": 105,
   "metadata": {},
   "outputs": [
    {
     "data": {
      "text/plain": [
       "<matplotlib.text.Text at 0x7f4ea5ef21d0>"
      ]
     },
     "execution_count": 105,
     "metadata": {},
     "output_type": "execute_result"
    },
    {
     "data": {
      "image/png": "[encoded data removed]",
      "text/plain": [
       "<matplotlib.figure.Figure at 0x7f4ea512a390>"
      ]
     },
     "metadata": {},
     "output_type": "display_data"
    }
   ],
   "source": [
    "ax = user_df_today.sort_values('activity').plot.bar(y=['reserved_days', 'actual_usage_days'])\n",
    "ax.set_ylabel('CPU time in days')\n",
    "ax.set_title('Number of cores used per user today ({})'.format(today))"
   ]
  }
 ],
 "metadata": {
  "anaconda-cloud": {},
  "kernelspec": {
   "display_name": "Python 3",
   "language": "python",
   "name": "python3"
  },
  "language_info": {
   "codemirror_mode": {
    "name": "ipython",
    "version": 3
   },
   "file_extension": ".py",
   "mimetype": "text/x-python",
   "name": "python",
   "nbconvert_exporter": "python",
   "pygments_lexer": "ipython3",
   "version": "3.5.3"
  }
 },
 "nbformat": 4,
 "nbformat_minor": 1
}
