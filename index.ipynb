{
 "cells": [
  {
   "cell_type": "markdown",
   "metadata": {},
   "source": [
    "# Measuring and logging the CPU usage at the `hpc05`\n",
    "\n",
    "Takes a measuring point **every 15 minutes** and then updates this website.\n",
    "\n",
    "Want to know something? Ask/e-mail Bas at [basnijholt@gmail.com](mailto:basnijholt@gmail.com).\n",
    "\n",
    "_You can see the code by clicking on this button:_"
   ]
  },
  {
   "cell_type": "raw",
   "metadata": {},
   "source": [
    "<script>\n",
    "  function code_toggle() {\n",
    "    if (code_shown){\n",
    "      $('div.input').hide('500');\n",
    "      $('#toggleButton').val('Show Code')\n",
    "    } else {\n",
    "      $('div.input').show('500');\n",
    "      $('#toggleButton').val('Hide Code')\n",
    "    }\n",
    "    code_shown = !code_shown\n",
    "  }\n",
    "\n",
    "  $( document ).ready(function(){\n",
    "    code_shown=false;\n",
    "    $('div.input').hide()\n",
    "  });\n",
    "</script>\n",
    "<form action=\"javascript:code_toggle()\"><input type=\"submit\" id=\"toggleButton\" value=\"Show Code\"></form>"
   ]
  },
  {
   "cell_type": "code",
   "execution_count": null,
   "metadata": {
    "collapsed": true
   },
   "outputs": [],
   "source": [
    "import datetime\n",
    "tz = datetime.timezone(datetime.timedelta(hours=2))\n",
    "print('Last time this script ran is at {}'.format(str(datetime.datetime.now(tz))))"
   ]
  },
  {
   "cell_type": "markdown",
   "metadata": {},
   "source": [
    "# Current usage at the `hpc05`"
   ]
  },
  {
   "cell_type": "code",
   "execution_count": null,
   "metadata": {
    "collapsed": true
   },
   "outputs": [],
   "source": [
    "!ssh hpc05 'bash -c \"~/miniconda3/envs/dev/bin/python /home/basnijholt/Work/cluster_log/stat.py\"'"
   ]
  },
  {
   "cell_type": "code",
   "execution_count": null,
   "metadata": {
    "collapsed": true
   },
   "outputs": [],
   "source": [
    "import json\n",
    "import pandas as pd\n",
    "import matplotlib.pyplot as plt\n",
    "%matplotlib inline\n",
    "\n",
    "def open_json(fname):\n",
    "    with open(fname, 'r') as f:\n",
    "        x = json.load(f)\n",
    "\n",
    "    data = []\n",
    "    for key, val in x.items():\n",
    "        ID, user, process = key.split()\n",
    "        for i in val:\n",
    "            current_time, actual_usage_time, num_cores = i\n",
    "            data.append(dict(ID=ID, user=user, process=process, current_time=current_time, \n",
    "                        actual_usage_time=actual_usage_time, num_cores=num_cores))\n",
    "    return data\n",
    "\n",
    "\n",
    "def load_file_sort_by_ID(data, today=False):\n",
    "    df = pd.DataFrame(data)\n",
    "    by_ID = df.groupby('ID')\n",
    "    df['reserved_time'] = by_ID['current_time'].transform(lambda x: x-x.min())\n",
    "    df['actual_usage_time'] = by_ID['actual_usage_time'].transform(lambda x: x-x.min())\n",
    "    df['actual_usage_time'] = df['actual_usage_time'] / df['num_cores']\n",
    "    df['activity'] = df['actual_usage_time'] / df['reserved_time'] * 100\n",
    "    df.index = pd.to_datetime(df.pop('current_time'), unit='s', utc=True)\n",
    "    df = df.sort_index()\n",
    "    if today:\n",
    "        # select only today\n",
    "        df = df.loc[str(datetime.date.today())]\n",
    "        by_ID = df.groupby('ID')\n",
    "    lasts = by_ID.last().set_index('user')\n",
    "    return df, lasts\n",
    "\n",
    "\n",
    "def get_user_df(lasts):\n",
    "    by_user = lasts.groupby(level='user')\n",
    "    reserved_days = by_user.apply(lambda x: (x.reserved_time * x.num_cores).sum() / 86400)\n",
    "    actual_usage_days = by_user.apply(lambda x: (x.actual_usage_time * x.num_cores).sum() / 86400)\n",
    "    idle_days = reserved_days - actual_usage_days\n",
    "    user_df = reserved_days.to_frame('reserved_days').join(actual_usage_days.to_frame('actual_usage_days')).join(idle_days.to_frame('idle_days'))\n",
    "    user_df['activity'] = user_df.actual_usage_days / user_df.reserved_days * 100\n",
    "    return user_df\n",
    "\n",
    "today = str(datetime.date.today())\n",
    "month = datetime.datetime.today().strftime(\"%B\")\n",
    "data = open_json('job_log_{}.json'.format(today[:-3]))"
   ]
  },
  {
   "cell_type": "markdown",
   "metadata": {},
   "source": [
    "# This months data\n",
    "\n",
    "* `reserved_days` means the total amount of CPU time (in days) that the user *reserved* the cores.\n",
    "* `actual_usage_days` means the total amount of CPU time (in days) that the user was *actually* using the cores.\n",
    "* `idle_days = reserved_days - actual_usage_days`"
   ]
  },
  {
   "cell_type": "code",
   "execution_count": null,
   "metadata": {
    "collapsed": true
   },
   "outputs": [],
   "source": [
    "df, lasts = load_file_sort_by_ID(data, today=False)\n",
    "user_df = get_user_df(lasts)\n",
    "user_df.sort_values('idle_days', ascending=False)"
   ]
  },
  {
   "cell_type": "code",
   "execution_count": null,
   "metadata": {
    "collapsed": true
   },
   "outputs": [],
   "source": [
    "ax = user_df.sort_values('activity').plot.bar(y=['reserved_days', 'actual_usage_days'])\n",
    "ax.set_ylabel('CPU time in days')\n",
    "ax.set_title('CPU time used per user in {}'.format(month))"
   ]
  },
  {
   "cell_type": "code",
   "execution_count": null,
   "metadata": {
    "collapsed": true
   },
   "outputs": [],
   "source": [
    "ax = df.groupby(df.index.weekday_name, sort=False).actual_usage_time.sum().divide(86400 * 365).plot.bar()\n",
    "ax.set_ylabel('CPU time in years')\n",
    "ax.set_title('CPU time per weekday in {}'.format(month))"
   ]
  },
  {
   "cell_type": "code",
   "execution_count": null,
   "metadata": {
    "collapsed": true
   },
   "outputs": [],
   "source": [
    "ax = df.groupby(df.index.hour, sort=False).actual_usage_time.sum().divide(86400 * 365).plot.bar()\n",
    "ax.set_ylabel('CPU time in years')\n",
    "ax.set_title('CPU time per hour in {}'.format(month))"
   ]
  },
  {
   "cell_type": "markdown",
   "metadata": {},
   "source": [
    "# Only today"
   ]
  },
  {
   "cell_type": "code",
   "execution_count": null,
   "metadata": {
    "collapsed": true
   },
   "outputs": [],
   "source": [
    "df, lasts = load_file_sort_by_ID(data, today=True)\n",
    "user_df_today = get_user_df(lasts)\n",
    "user_df_today.sort_values('idle_days', ascending=False)"
   ]
  },
  {
   "cell_type": "code",
   "execution_count": null,
   "metadata": {
    "collapsed": true
   },
   "outputs": [],
   "source": [
    "ax = user_df_today.sort_values('activity').plot.bar(y=['reserved_days', 'actual_usage_days'])\n",
    "ax.set_ylabel('CPU time in days')\n",
    "ax.set_title('CPU time per user today ({})'.format(today))"
   ]
  }
 ],
 "metadata": {
  "anaconda-cloud": {},
  "kernelspec": {
   "display_name": "Python 3",
   "language": "python",
   "name": "python3"
  },
  "language_info": {
   "codemirror_mode": {
    "name": "ipython",
    "version": 3
   },
   "file_extension": ".py",
   "mimetype": "text/x-python",
   "name": "python",
   "nbconvert_exporter": "python",
   "pygments_lexer": "ipython3",
   "version": "3.5.3"
  }
 },
 "nbformat": 4,
 "nbformat_minor": 1
}
